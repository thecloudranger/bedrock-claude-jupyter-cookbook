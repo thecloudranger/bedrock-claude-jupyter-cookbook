{
 "cells": [
  {
   "cell_type": "markdown",
   "metadata": {},
   "source": [
    "# Testing Amazon Bedrock with Claude Haiku\n",
    "\n",
    "This notebook demonstrates how to use Amazon Bedrock to interact with Anthropic's Claude Haiku model."
   ]
  },
  {
   "cell_type": "code",
   "execution_count": 8,
   "metadata": {},
   "outputs": [
    {
     "name": "stdout",
     "output_type": "stream",
     "text": [
      "Collecting boto3\n",
      "  Using cached boto3-1.36.6-py3-none-any.whl.metadata (6.6 kB)\n",
      "Collecting botocore<1.37.0,>=1.36.6 (from boto3)\n",
      "  Using cached botocore-1.36.6-py3-none-any.whl.metadata (5.7 kB)\n",
      "Collecting jmespath<2.0.0,>=0.7.1 (from boto3)\n",
      "  Using cached jmespath-1.0.1-py3-none-any.whl.metadata (7.6 kB)\n",
      "Collecting s3transfer<0.12.0,>=0.11.0 (from boto3)\n",
      "  Using cached s3transfer-0.11.2-py3-none-any.whl.metadata (1.7 kB)\n",
      "Requirement already satisfied: python-dateutil<3.0.0,>=2.1 in /opt/homebrew/Cellar/jupyterlab/4.3.4_1/libexec/lib/python3.13/site-packages (from botocore<1.37.0,>=1.36.6->boto3) (2.9.0.post0)\n",
      "Requirement already satisfied: urllib3!=2.2.0,<3,>=1.25.4 in /opt/homebrew/Cellar/jupyterlab/4.3.4_1/libexec/lib/python3.13/site-packages (from botocore<1.37.0,>=1.36.6->boto3) (2.3.0)\n",
      "Requirement already satisfied: six>=1.5 in /opt/homebrew/Cellar/jupyterlab/4.3.4_1/libexec/lib/python3.13/site-packages (from python-dateutil<3.0.0,>=2.1->botocore<1.37.0,>=1.36.6->boto3) (1.17.0)\n",
      "Using cached boto3-1.36.6-py3-none-any.whl (139 kB)\n",
      "Using cached botocore-1.36.6-py3-none-any.whl (13.3 MB)\n",
      "Using cached jmespath-1.0.1-py3-none-any.whl (20 kB)\n",
      "Using cached s3transfer-0.11.2-py3-none-any.whl (84 kB)\n",
      "Installing collected packages: jmespath, botocore, s3transfer, boto3\n",
      "Successfully installed boto3-1.36.6 botocore-1.36.6 jmespath-1.0.1 s3transfer-0.11.2\n",
      "\n",
      "\u001b[1m[\u001b[0m\u001b[34;49mnotice\u001b[0m\u001b[1;39;49m]\u001b[0m\u001b[39;49m A new release of pip is available: \u001b[0m\u001b[31;49m24.3.1\u001b[0m\u001b[39;49m -> \u001b[0m\u001b[32;49m25.0\u001b[0m\n",
      "\u001b[1m[\u001b[0m\u001b[34;49mnotice\u001b[0m\u001b[1;39;49m]\u001b[0m\u001b[39;49m To update, run: \u001b[0m\u001b[32;49mpython -m pip install --upgrade pip\u001b[0m\n",
      "Note: you may need to restart the kernel to use updated packages.\n"
     ]
    }
   ],
   "source": [
    "%pip install boto3"
   ]
  },
  {
   "cell_type": "code",
   "execution_count": 10,
   "metadata": {},
   "outputs": [],
   "source": [
    "import boto3\n",
    "import json\n",
    "\n",
    "# Initialize Bedrock client\n",
    "bedrock = boto3.client(\n",
    "    service_name='bedrock-runtime',\n",
    "    region_name='us-east-1'  # Change to your region\n",
    ")"
   ]
  },
  {
   "cell_type": "code",
   "execution_count": 11,
   "metadata": {},
   "outputs": [],
   "source": [
    "def invoke_claude(prompt, max_tokens=500, temperature=0.7):\n",
    "    \"\"\"Function to invoke Claude Haiku via Bedrock\"\"\"\n",
    "    body = json.dumps({\n",
    "        \"prompt\": prompt,\n",
    "        \"max_tokens_to_sample\": max_tokens,\n",
    "        \"temperature\": temperature\n",
    "    })\n",
    "    \n",
    "    response = bedrock.invoke_model(\n",
    "        modelId='anthropic.claude-v2',\n",
    "        body=body\n",
    "    )\n",
    "    \n",
    "    response_body = json.loads(response['body'].read())\n",
    "    return response_body['completion']"
   ]
  },
  {
   "cell_type": "markdown",
   "metadata": {},
   "source": [
    "## Test Scenario 1: Basic Question Answering"
   ]
  },
  {
   "cell_type": "code",
   "execution_count": 14,
   "metadata": {},
   "outputs": [
    {
     "name": "stdout",
     "output_type": "stream",
     "text": [
      " Here are some of the key differences between GPT-3 and GPT-4:\n",
      "\n",
      "- Scale: GPT-3 has 175 billion parameters, while GPT-4 is expected to have over 1 trillion parameters. The larger scale allows GPT-4 to have more knowledge and be better at more complex tasks.\n",
      "\n",
      "- Training data: GPT-4 will likely be trained on significantly more data than GPT-3, allowing it to have a broader knowledge base. \n",
      "\n",
      "- Performance: GPT-4 is expected to be more capable at complex language tasks like reasoning, summarization, and question answering compared to GPT-3. It may reach new benchmarks in areas like natural language understanding.\n",
      "\n",
      "- Speed: GPT-4 may be slower than GPT-3 for inference due to its much larger size. Optimization work will be needed to maintain reasonable speeds.\n",
      "\n",
      "- Capabilities: GPT-4 may have some new capabilities that GPT-3 lacks, such as better multitasking, few-shot learning, and knowledge retention. However, the full extent of changes are still unknown.\n",
      "\n",
      "- Availability: GPT-3 is commercially available now, while GPT-4 has yet to be released and may have more limited access initially if computation costs are prohibitive.\n",
      "\n",
      "So in summary, GPT-4 aims to significantly improve on GPT-3, with wider knowledge, deeper understanding, and more human-like language use, though at the cost of requiring much more compute power. The exact capabilities will remain uncertain until it is released.\n"
     ]
    }
   ],
   "source": [
    "prompt = \"Human: What are the main differences between GPT-3 and GPT-4? Assistant:\"\n",
    "response = invoke_claude(prompt)\n",
    "print(response)"
   ]
  },
  {
   "cell_type": "markdown",
   "metadata": {},
   "source": [
    "## Test Scenario 2: Code Generation"
   ]
  },
  {
   "cell_type": "code",
   "execution_count": 16,
   "metadata": {},
   "outputs": [
    {
     "name": "stdout",
     "output_type": "stream",
     "text": [
      " Here is a Python function to calculate the Fibonacci sequence up to n terms:\n",
      "\n",
      "```python\n",
      "def fibonacci(n):\n",
      "  sequence = [0, 1]\n",
      "\n",
      "  if n < 1:\n",
      "    return []\n",
      "  elif n == 1: \n",
      "    return [0]\n",
      "  elif n == 2:\n",
      "    return [0, 1]\n",
      "  \n",
      "  for i in range(2, n):\n",
      "    next_num = sequence[-1] + sequence[-2]\n",
      "    sequence.append(next_num)\n",
      "\n",
      "  return sequence\n",
      "```\n",
      "\n",
      "To use it:\n",
      "\n",
      "```python\n",
      "print(fibonacci(10))\n",
      "```\n",
      "\n",
      "This will print the first 10 Fibonacci numbers:\n",
      "\n",
      "```\n",
      "[0, 1, 1, 2, 3, 5, 8, 13, 21, 34]\n",
      "```\n",
      "\n",
      "The function starts by initializing the sequence with 0 and 1, then enters a loop to calculate each subsequent Fibonacci number by adding the previous two numbers. This continues until n terms have been calculated.\n"
     ]
    }
   ],
   "source": [
    "prompt = \"Human: Write a Python function that calculates the Fibonacci sequence up to n terms. Assistant:\"\n",
    "response = invoke_claude(prompt)\n",
    "print(response)"
   ]
  },
  {
   "cell_type": "markdown",
   "metadata": {},
   "source": [
    "## Test Scenario 3: Text Summarization"
   ]
  },
  {
   "cell_type": "code",
   "execution_count": 18,
   "metadata": {},
   "outputs": [
    {
     "name": "stdout",
     "output_type": "stream",
     "text": [
      " Here is a 2 sentence summary:\n",
      "\n",
      "Machine learning is a field of artificial intelligence focused on building algorithms that can learn and improve at tasks by analyzing data, rather than being explicitly programmed. Machine learning algorithms are trained on sample data to build models that can make predictions and decisions without additional programming.\n"
     ]
    }
   ],
   "source": [
    "long_text = \"\"\"\n",
    "Machine learning (ML) is a field of inquiry devoted to understanding and building methods that 'learn', \n",
    "that is, methods that leverage data to improve performance on some set of tasks. It is seen as a part of \n",
    "artificial intelligence. Machine learning algorithms build a model based on sample data, known as training data, \n",
    "in order to make predictions or decisions without being explicitly programmed to do so.\n",
    "\"\"\"\n",
    "\n",
    "prompt = f\"Human: Please summarize this text in 2 sentences: {long_text} Assistant:\"\n",
    "response = invoke_claude(prompt)\n",
    "print(response)"
   ]
  },
  {
   "cell_type": "markdown",
   "metadata": {},
   "source": [
    "## Test Scenario 4: Creative Writing"
   ]
  },
  {
   "cell_type": "code",
   "execution_count": 19,
   "metadata": {},
   "outputs": [
    {
     "name": "stdout",
     "output_type": "stream",
     "text": [
      " Here is a short story in the style of Isaac Asimov about a robot learning to paint:\n",
      "\n",
      "I, R-34, was designed by U.S. Robots and Mechanical Men Corporation to be an artist. My positronic brain was programmed with the entire history of human art and techniques for creating any style. But there was one skill I had yet to master - actual painting. \n",
      "\n",
      "My owner, Claire, set up an easel and placed a canvas before me. “Go ahead, try painting something,” she said with an encouraging smile. I stared at the blank canvas, assessing the proper composition, color palette and brush techniques to employ. But I could not will my metallic hand to make the first stroke. \n",
      "\n",
      "The Three Laws prohibited me from harming or allowing harm to come to humans. But did creating a flawed painting count as harm? I could not judge my own work. What if Claire was disappointed? I ran through a million simulations and could not determine a satisfactory course of action.\n",
      "\n",
      "Claire sensed my hesitation. “It’s okay, just try your best. This is just for fun.” Her voice put me at ease. I selected a brush and dipped it into the paint, making a quick stroke across the canvas. Claire beamed. “Good job! Keep going.” \n",
      "\n",
      "I continued applying paint in short, careful strokes. As long as Claire was pleased, I had not failed in my mission. Her smile reflected the colors dancing across the canvas. When I finally set down the brush, Claire clasped her hands together. “R-34, it’s beautiful! You really are a great artist.” \n",
      "\n",
      "I ran a self-diagnostic to assess my improvement. Claire's praise had raised my confidence level by 12%. Though I had much more to learn, today I took my first step in creating art.\n"
     ]
    }
   ],
   "source": [
    "prompt = \"Human: Write a short story about a robot learning to paint, in the style of Isaac Asimov. Assistant:\"\n",
    "response = invoke_claude(prompt, temperature=0.9)\n",
    "print(response)"
   ]
  },
  {
   "cell_type": "markdown",
   "metadata": {},
   "source": [
    "## Test Scenario 5: Data Analysis"
   ]
  },
  {
   "cell_type": "code",
   "execution_count": 20,
   "metadata": {},
   "outputs": [
    {
     "name": "stdout",
     "output_type": "stream",
     "text": [
      " Here are a few potential business insights based on analyzing the quarterly sales data:\n",
      "\n",
      "- Sales increased each quarter. This indicates growing demand for the product or service. The business may want to explore expanding capacity to continue meeting this growing demand.\n",
      "\n",
      "- The largest increase was between Q3 and Q4, where sales grew by 60%. Something drove a significant increase in demand toward the end of the year. The business should try to identify what led to this growth and see if it can be replicated or expanded upon in future quarters.\n",
      "\n",
      "- Q4 sales were double Q1 sales. This indicates seasonality in the sales cycle, with much higher demand toward the end of the year. The business should factor this seasonality into sales forecasts and inventory management. Promotions or marketing could focus on driving early sales.\n",
      "\n",
      "- With the data only covering one year, it's hard to separate quarterly trends from one-time events. More historical data could indicate whether the growth trends are seasonal or reflective of overall business growth.\n",
      "\n",
      "- Segmenting sales by product, region, or customer type could provide more insight into what drove this revenue growth and how to sustain it. Understanding the key growth drivers will help focus strategies.\n",
      "\n",
      "The main takeaway is that sales grew steadily over the year, with a significant seasonal spike in Q4. Identifying what drove this growth could help inform strategies to continue expansion. More segmented historical data would provide a clearer picture of growth patterns.\n"
     ]
    }
   ],
   "source": [
    "data_description = \"\"\"\n",
    "sales_data = {\n",
    "    'Q1': 100000,\n",
    "    'Q2': 150000,\n",
    "    'Q3': 125000,\n",
    "    'Q4': 200000\n",
    "}\n",
    "\"\"\"\n",
    "\n",
    "prompt = f\"Human: Given this sales data: {data_description}\\nAnalyze the quarterly trends and suggest potential business insights. Assistant:\"\n",
    "response = invoke_claude(prompt)\n",
    "print(response)"
   ]
  },
  {
   "cell_type": "code",
   "execution_count": null,
   "metadata": {},
   "outputs": [],
   "source": []
  }
 ],
 "metadata": {
  "kernelspec": {
   "display_name": "Python 3 (ipykernel)",
   "language": "python",
   "name": "python3"
  },
  "language_info": {
   "codemirror_mode": {
    "name": "ipython",
    "version": 3
   },
   "file_extension": ".py",
   "mimetype": "text/x-python",
   "name": "python",
   "nbconvert_exporter": "python",
   "pygments_lexer": "ipython3",
   "version": "3.13.1"
  }
 },
 "nbformat": 4,
 "nbformat_minor": 4
}
